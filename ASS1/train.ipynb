{
 "cells": [
  {
   "cell_type": "markdown",
   "metadata": {},
   "source": [
    "## **Vision-based angle prediction (SC42050 - Knowledge Based Control Systems)**"
   ]
  },
  {
   "cell_type": "markdown",
   "metadata": {},
   "source": [
    "# Optionally seed the run, define your model, and fit to the training data "
   ]
  },
  {
   "cell_type": "code",
   "execution_count": null,
   "metadata": {
    "pycharm": {
     "name": "#%%\n"
    }
   },
   "outputs": [
    {
     "name": "stdout",
     "output_type": "stream",
     "text": [
      "Loaded observation data: (12120, 28, 28, 3)\n",
      "Loaded state data: (12120, 2)\n"
     ]
    },
    {
     "data": {
      "image/png": "[encoded data removed]",
      "text/plain": [
       "<Figure size 720x720 with 25 Axes>"
      ]
     },
     "metadata": {},
     "output_type": "display_data"
    },
    {
     "name": "stdout",
     "output_type": "stream",
     "text": [
      "Epoch 1/30\n",
      "120/120 [==============================] - 3s 26ms/step - loss: 0.0963 - val_loss: 4.4139e-04\n",
      "Epoch 2/30\n",
      "120/120 [==============================] - 3s 23ms/step - loss: 3.1670e-04 - val_loss: 2.4627e-04\n",
      "Epoch 3/30\n",
      "120/120 [==============================] - 3s 22ms/step - loss: 2.3739e-04 - val_loss: 2.6383e-04\n",
      "Epoch 4/30\n",
      "120/120 [==============================] - 3s 23ms/step - loss: 2.0311e-04 - val_loss: 1.6679e-04\n",
      "Epoch 5/30\n",
      "120/120 [==============================] - 3s 24ms/step - loss: 1.7018e-04 - val_loss: 1.1664e-04\n",
      "Epoch 6/30\n",
      "120/120 [==============================] - 3s 23ms/step - loss: 1.3716e-04 - val_loss: 1.0716e-04\n",
      "Epoch 7/30\n",
      "120/120 [==============================] - 3s 22ms/step - loss: 1.2039e-04 - val_loss: 9.0999e-05\n",
      "Epoch 8/30\n",
      "120/120 [==============================] - 3s 23ms/step - loss: 1.0757e-04 - val_loss: 7.4017e-05\n",
      "Epoch 9/30\n",
      "120/120 [==============================] - 3s 22ms/step - loss: 9.2325e-05 - val_loss: 7.5543e-05\n",
      "Epoch 10/30\n",
      "120/120 [==============================] - 3s 24ms/step - loss: 7.9380e-05 - val_loss: 5.7733e-05\n",
      "Epoch 11/30\n",
      "120/120 [==============================] - 3s 23ms/step - loss: 7.3883e-05 - val_loss: 7.7776e-05\n",
      "Epoch 12/30\n",
      "120/120 [==============================] - 3s 23ms/step - loss: 6.6586e-05 - val_loss: 4.6469e-05\n",
      "Epoch 13/30\n",
      "120/120 [==============================] - 3s 23ms/step - loss: 5.6036e-05 - val_loss: 2.7637e-05\n",
      "Epoch 14/30\n",
      "120/120 [==============================] - 3s 23ms/step - loss: 4.6812e-05 - val_loss: 9.8053e-05\n",
      "Epoch 15/30\n",
      "120/120 [==============================] - 3s 22ms/step - loss: 5.4821e-05 - val_loss: 1.9765e-05\n",
      "Epoch 16/30\n",
      "120/120 [==============================] - 3s 23ms/step - loss: 5.0025e-05 - val_loss: 1.6918e-05\n",
      "Epoch 17/30\n",
      "120/120 [==============================] - 3s 22ms/step - loss: 4.5144e-05 - val_loss: 2.0818e-05\n",
      "Epoch 18/30\n",
      "120/120 [==============================] - 3s 22ms/step - loss: 3.8301e-05 - val_loss: 4.0510e-05\n",
      "Epoch 19/30\n",
      "120/120 [==============================] - 3s 24ms/step - loss: 3.8846e-05 - val_loss: 1.3945e-05\n",
      "Epoch 20/30\n",
      "120/120 [==============================] - 3s 23ms/step - loss: 3.3680e-05 - val_loss: 1.9680e-05\n",
      "Epoch 21/30\n",
      "120/120 [==============================] - 3s 22ms/step - loss: 3.5807e-05 - val_loss: 1.4660e-05\n",
      "Epoch 22/30\n",
      "120/120 [==============================] - 3s 23ms/step - loss: 3.2760e-05 - val_loss: 3.5225e-05\n",
      "Epoch 23/30\n",
      "120/120 [==============================] - 3s 23ms/step - loss: 2.8475e-05 - val_loss: 1.2442e-05\n",
      "Epoch 24/30\n",
      "120/120 [==============================] - 3s 23ms/step - loss: 2.7981e-05 - val_loss: 7.6613e-06\n",
      "Epoch 25/30\n",
      "103/120 [========================>.....] - ETA: 0s - loss: 3.2617e-05"
     ]
    }
   ],
   "source": [
    "import tensorflow as tf\n",
    "import numpy as np\n",
    "import matplotlib.pyplot as plt\n",
    "import h5py\n",
    "\n",
    "# FUNCTION TO SEED PSEUDO-RANDOM GENERATORS\n",
    "def seed_experiment(seed=None, use_cpu=True):\n",
    "    import os\n",
    "    # os.environ['TF_CPP_MIN_LOG_LEVEL'] = '3'\n",
    "    import random\n",
    "    import numpy as np\n",
    "    import tensorflow as tf\n",
    "\n",
    "    # Seed value\n",
    "    # Apparently you may use different seed values at each stage\n",
    "    seed_value = seed\n",
    "\n",
    "    # 1. Set `PYTHONHASHSEED` environment variable at a fixed value\n",
    "    os.environ['PYTHONHASHSEED'] = str(seed_value)\n",
    "\n",
    "    # 2. Set `python` built-in pseudo-random generator at a fixed value\n",
    "    random.seed(seed_value)\n",
    "\n",
    "    # 3. Set `numpy` pseudo-random generator at a fixed value\n",
    "    np.random.seed(seed_value)\n",
    "\n",
    "    # 4. Set the `tensorflow` pseudo-random generator at a fixed value\n",
    "    tf.random.set_seed(seed_value)\n",
    "    \n",
    "    # 5. force tensorflow to use CPU\n",
    "    if use_cpu:\n",
    "        os.environ['CUDA_VISIBLE_DEVICES'] = ''\n",
    "    return seed_value\n",
    "\n",
    "# SEED EXPERIMENT TO CREATE REPRODUCIBLE RESULTS\n",
    "\"\"\"TASK 1.4: PSEUDO-RANDOM GENERATOR\"\"\"\n",
    "seed_value = 0\n",
    "# seed_experiment(seed=seed_value)  # Comment this line to disable the seeding\n",
    "\"\"\"TASK 1.4: END\"\"\"\n",
    "\n",
    "# USE GPU IF AVAILABLE\n",
    "gpus = tf.config.experimental.list_physical_devices('GPU')\n",
    "if len(gpus) > 0:\n",
    "    tf.config.experimental.set_memory_growth(gpus[0], True)\n",
    "\n",
    "# LOAD DATASET\n",
    "with h5py.File('./dataset.h5', 'r') as hf:\n",
    "    observation = hf['observation.h5'][:]\n",
    "    state = hf['state.h5'][:]\n",
    "print('Loaded observation data: %s' % str(observation.shape))\n",
    "print('Loaded state data: %s' % str(state.shape))\n",
    "\n",
    "# DATASET PARAMETERS\n",
    "num_examples = 12000\n",
    "observation = observation[:num_examples]\n",
    "state = state[:num_examples]\n",
    "\n",
    "# DATA PRE-PROCESSING\n",
    "# Scale pixel values to a range of 0 to 1 before feeding them to the neural network model.\n",
    "observation = observation.astype(np.float32) / 255.\n",
    "\n",
    "# CREATE TEST DATASET\n",
    "test_split = 0.2\n",
    "if 0 < test_split < 1:\n",
    "    split_at = int(len(observation) * (1 - test_split))\n",
    "else:\n",
    "    raise ValueError('Must hold-out data as a test dataset. Set parameter 0 < test_split < 1.')\n",
    "test_obs = observation[split_at:, :, :, :]\n",
    "test_theta = state[split_at:, 0]\n",
    "test_trig = np.hstack([np.sin(test_theta)[:, None], np.cos(test_theta)[:, None]])\n",
    "\n",
    "# CREATE TRAINING DATASET\n",
    "train_obs = observation[:split_at, :, :, :]\n",
    "train_theta = state[:split_at, 0]\n",
    "train_trig = np.hstack([np.sin(train_theta)[:, None], np.cos(train_theta)[:, None]])\n",
    "\n",
    "# VERIFY TRAINING DATA\n",
    "# To verify that the data is in the correct format and that you're ready to build and train the network,\n",
    "# let's display the first 25 images from the dataset and display the corresponding theta value below each image.\n",
    "%matplotlib inline\n",
    "plt.figure(figsize=(10, 10))\n",
    "for i in range(25):\n",
    "    plt.subplot(5, 5, i+1)\n",
    "    plt.xticks([])\n",
    "    plt.yticks([])\n",
    "    plt.grid(False)\n",
    "    plt.imshow(train_obs[i])\n",
    "    plt.xlabel(str(round(train_theta[i]/np.pi, 2)) + '$\\\\pi$')\n",
    "plt.show()\n",
    "\n",
    "# MODEL PARAMETERS\n",
    "model_type = 'model_cnn'  # 'model_theta', 'model_trig', 'model_cnn'\n",
    "\n",
    "# BUILD MODELS\n",
    "# Building the neural network requires configuring the layers of the model, then compiling the model.\n",
    "if model_type == 'model_theta':  # Predict theta directly\n",
    "    \"\"\"TASK 1.1: CREATE MODEL HERE\"\"\"\n",
    "    model = tf.keras.Sequential(\n",
    "        [\n",
    "            tf.keras.layers.Flatten(),\n",
    "            tf.keras.layers.Dense(128, activation=\"relu\"),\n",
    "            tf.keras.layers.Dense(1)\n",
    "        ]\n",
    "    )\n",
    "    \"\"\"TASK 1.1: END\"\"\"\n",
    "    str_model_type = '$M^\\\\theta$'\n",
    "elif model_type == 'model_trig':  # Predict trigonometric functions of theta\n",
    "    \"\"\"TASK 1.2: CREATE MODEL HERE\"\"\"\n",
    "    model = tf.keras.Sequential(\n",
    "        [\n",
    "            tf.keras.layers.Flatten(),\n",
    "            tf.keras.layers.Dense(128, activation=\"relu\"),\n",
    "            tf.keras.layers.Dense(2)\n",
    "        ]\n",
    "    )\n",
    "    \"\"\"TASK 1.2: END\"\"\"\n",
    "    str_model_type = '$M^{trig}$'\n",
    "elif model_type == 'model_cnn':  # Use a CNN\n",
    "    \"\"\"TASK 1.3: CREATE MODEL HERE\"\"\"\n",
    "    model = tf.keras.Sequential(\n",
    "        [\n",
    "            tf.keras.layers.Conv2D(filters=32, kernel_size=(3, 3), activation='relu'),\n",
    "            tf.keras.layers.MaxPooling2D(pool_size=(2, 2)),\n",
    "            tf.keras.layers.Flatten(),\n",
    "            tf.keras.layers.Dense(2)\n",
    "        ]\n",
    "    )\n",
    "    \"\"\"TASK 1.3: END\"\"\"\n",
    "    str_model_type = '$M^{cnn}$'\n",
    "else:\n",
    "    raise ValueError('Unknown model type selected.')\n",
    "\n",
    "# VERIFY THAT A MODEL WAS DEFINED\n",
    "try:\n",
    "    model\n",
    "except NameError:\n",
    "    raise ValueError(\"Variable 'model' not defined! Make sure to name every keras model 'model'!\")\n",
    "\n",
    "# COMPILE MODEL\n",
    "\"\"\"TASK 1.1: COMPILE MODEL HERE\"\"\"\n",
    "model.compile(optimizer='adam', loss=tf.keras.losses.MeanSquaredError())\n",
    "\"\"\"TASK 1.1: END\"\"\"\n",
    "\n",
    "# FIT MODEL ON DATA\n",
    "if model_type != 'model_theta':\n",
    "    \"\"\"TASK 1.2: TRAIN MODEL HERE\"\"\"\n",
    "    model.fit(\n",
    "        x=train_obs,\n",
    "        y=train_trig,\n",
    "        batch_size=64,\n",
    "        epochs=30,\n",
    "        validation_split=0.2,\n",
    "        shuffle=True,\n",
    "    )\n",
    "    \"\"\"TASK 1.2: END\"\"\"\n",
    "else:\n",
    "    \"\"\"TASK 1.1: TRAIN MODEL HERE\"\"\"\n",
    "    model.fit(\n",
    "        x=train_obs,\n",
    "        y=train_theta,\n",
    "        batch_size=64,\n",
    "        epochs=30,\n",
    "        validation_split=0.2,\n",
    "        shuffle=True,\n",
    "    )\n",
    "    \"\"\"TASK 1.1: END\"\"\""
   ]
  },
  {
   "cell_type": "markdown",
   "metadata": {},
   "source": [
    "# Evaluate your model"
   ]
  },
  {
   "cell_type": "code",
   "execution_count": 20,
   "metadata": {
    "pycharm": {
     "name": "#%%\n"
    }
   },
   "outputs": [
    {
     "name": "stdout",
     "output_type": "stream",
     "text": [
      "75/75 [==============================] - 0s 4ms/step - loss: 5.3482e-06\n"
     ]
    },
    {
     "data": {
      "image/png": "[encoded data removed]",
      "text/plain": [
       "<Figure size 432x288 with 1 Axes>"
      ]
     },
     "metadata": {
      "needs_background": "light"
     },
     "output_type": "display_data"
    }
   ],
   "source": [
    "%matplotlib inline\n",
    "\n",
    "# EVALUATE PERFORMANCE ON TEST DATASET\n",
    "if model_type != 'model_theta':\n",
    "    test_scores = model.evaluate(test_obs, test_trig, verbose=1)\n",
    "    output = model.predict(test_obs)\n",
    "    pred_theta = np.arctan2(output[:, 0], output[:, 1])\n",
    "else:\n",
    "    test_scores = model.evaluate(test_obs, test_theta, verbose=1)\n",
    "    pred_theta = model.predict(test_obs)[:, 0]\n",
    "# print(\"Test loss:\", test_scores)\n",
    "\n",
    "# EVALUATE MODEL ACCURACY\n",
    "# Calculate average error per bin over theta range [-pi, pi]\n",
    "test_error = np.abs(test_theta - pred_theta)\n",
    "test_error[test_error > np.pi] -= 2*np.pi\n",
    "test_error = np.abs(test_error)\n",
    "bins = np.linspace(-np.pi, np.pi, 21)\n",
    "digitized = np.digitize(test_theta, bins)\n",
    "bin_means = np.array([test_error[digitized == i].mean() for i in range(1, len(bins))])\n",
    "fig, ax = plt.subplots()\n",
    "ax.bar(bins[:-1], bin_means, width=np.diff(bins), edgecolor=\"black\", align=\"edge\")\n",
    "ax.set_xlabel('$\\\\theta$ (rad)')\n",
    "ax.set_ylabel('$|\\\\bar{\\\\theta} -\\\\theta|$ (rad)')\n",
    "ax.set_title('%s - Average prediction error %s' % (str_model_type, '{:.2e}'.format(test_error.mean())));"
   ]
  },
  {
   "cell_type": "markdown",
   "metadata": {},
   "source": [
    "# Summary of the model"
   ]
  },
  {
   "cell_type": "code",
   "execution_count": 21,
   "metadata": {
    "pycharm": {
     "name": "#%%\n"
    }
   },
   "outputs": [
    {
     "name": "stdout",
     "output_type": "stream",
     "text": [
      "Model: \"sequential_8\"\n",
      "_________________________________________________________________\n",
      "Layer (type)                 Output Shape              Param #   \n",
      "=================================================================\n",
      "conv2d_5 (Conv2D)            (None, 26, 26, 32)        896       \n",
      "_________________________________________________________________\n",
      "max_pooling2d_5 (MaxPooling2 (None, 13, 13, 32)        0         \n",
      "_________________________________________________________________\n",
      "flatten_8 (Flatten)          (None, 5408)              0         \n",
      "_________________________________________________________________\n",
      "dense_11 (Dense)             (None, 2)                 10818     \n",
      "=================================================================\n",
      "Total params: 11,714\n",
      "Trainable params: 11,714\n",
      "Non-trainable params: 0\n",
      "_________________________________________________________________\n"
     ]
    }
   ],
   "source": [
    "# MODEL SUMMARY\n",
    "model.summary()"
   ]
  },
  {
   "cell_type": "markdown",
   "metadata": {},
   "source": [
    "# Live simulation (not supported in Google Colab)"
   ]
  },
  {
   "cell_type": "code",
   "execution_count": 22,
   "metadata": {
    "pycharm": {
     "name": "#%%\n"
    }
   },
   "outputs": [
    {
     "name": "stdout",
     "output_type": "stream",
     "text": [
      "Test trained model in 1 simulations.\n"
     ]
    }
   ],
   "source": [
    "import gym\n",
    "import wrappers\n",
    "from driver import Driver\n",
    "from environments.pendulum import UnderactuatedPendulum\n",
    "\n",
    "%matplotlib qt\n",
    "\n",
    "# INITIALIZE TEST_PENDULUM ENVIRONMENT\n",
    "num_sims = 1\n",
    "len_time = 100\n",
    "test_env = gym.make('pendulum-underactuated-v0', render_shape=(500, 500), model=model)\n",
    "test_env = wrappers.NormalizeActions(test_env)\n",
    "test_env = wrappers.MinimumDuration(test_env, len_time)\n",
    "test_env = wrappers.MaximumDuration(test_env, len_time)\n",
    "test_env = wrappers.ObservationDict(test_env, key='observation')\n",
    "test_env = wrappers.PixelObservations(test_env, (28, 28), np.uint8, 'image')\n",
    "test_env = wrappers.ConvertRewardToCost(test_env)\n",
    "test_env = wrappers.ConvertTo32Bit(test_env)\n",
    "test_env.seed(seed=seed_value)\n",
    "\n",
    "# INITIALIZE INFRASTRUCTURE\n",
    "test_driver = Driver(test_env)\n",
    "\n",
    "# RUN SIMULATOR\n",
    "print('Test trained model in %d simulations.' % num_sims)\n",
    "# print('Press \"ctrl + c\" to interrupt the simulation.')\n",
    "test_driver.run(render=True, num_steps=len_time*num_sims)\n",
    "test_env.close()\n",
    "\n"
   ]
  },
  {
   "cell_type": "code",
   "execution_count": null,
   "metadata": {},
   "outputs": [],
   "source": []
  }
 ],
 "metadata": {
  "colab": {
   "collapsed_sections": [
    "XNZh4MYBkIRf",
    "_-Zv75R6jsA_",
    "xMcysHTcj298",
    "pKwgYomej7t9"
   ],
   "name": "KBCS-assignment.ipynb",
   "provenance": [],
   "toc_visible": true
  },
  "kernelspec": {
   "display_name": "Python 3",
   "language": "python",
   "name": "python3"
  },
  "language_info": {
   "codemirror_mode": {
    "name": "ipython",
    "version": 3
   },
   "file_extension": ".py",
   "mimetype": "text/x-python",
   "name": "python",
   "nbconvert_exporter": "python",
   "pygments_lexer": "ipython3",
   "version": "3.7.10"
  },
  "pycharm": {
   "stem_cell": {
    "cell_type": "raw",
    "metadata": {
     "collapsed": false
    },
    "source": []
   }
  }
 },
 "nbformat": 4,
 "nbformat_minor": 1
}
